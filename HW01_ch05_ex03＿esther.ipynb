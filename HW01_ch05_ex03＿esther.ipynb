{
 "cells": [
  {
   "cell_type": "code",
   "execution_count": 10,
   "metadata": {},
   "outputs": [
    {
     "name": "stdout",
     "output_type": "stream",
     "text": [
      "Yes\n",
      "No\n",
      "No\n",
      "No\n"
     ]
    }
   ],
   "source": [
    "# If you are given three sticks, you may or may not be able to arrange them in\n",
    "# a triangle. For example, if one of the sticks is 12 inches long and the other\n",
    "# two are one inch long, it is clear that you will not be able to get the short\n",
    "# sticks to meet in the middle. For any three lengths, there is a simple test\n",
    "# to see if it is possible to form a triangle:\n",
    "\n",
    "#   If any of the three lengths is greater than the sum of the other two, then\n",
    "#   you cannot form a triangle. Otherwise, you can. (If the sum of two lengths\n",
    "#   equals the third, they form what is called a \"degenerate\" triangle.)\n",
    "\n",
    "# (1) Write a function named `is_triangle` that takes three integers as\n",
    "# arguments, and that prints either \"Yes\" or \"No,\" depending on whether you can\n",
    "# or cannot form a triangle from sticks with the given lengths.\n",
    "\n",
    "def is_triangle(a,b,c):\n",
    "    if (a + b ) < c or (a + c ) < b or (b + c ) < a:\n",
    "        print(\"No\")\n",
    "    else:\n",
    "        print(\"Yes\")\n",
    "\n",
    "\n",
    "# (2) Write a function that prompts the user to input three stick lengths,\n",
    "# converts them to integers, and uses `is_triangle` to check whether sticks\n",
    "# with the given lengths can form a triangle.\n",
    "\n",
    "###############################################################################\n",
    "# Write your functions below:\n",
    "def new_triangle():\n",
    "    a = int(input(\"Provide a length for side a: \"))\n",
    "    b = int(input(\"Provide a length for side b: \"))\n",
    "    c = int(input(\"Provide a length for side c: \"))\n",
    "    is_triangle(a,b,c)\n",
    "\n",
    "# Write your functions above:\n",
    "###############################################################################\n",
    "def main():\n",
    "    \"\"\"Call your functions within this function.\n",
    "    When complete have four function calls in this function\n",
    "    for is_triangle (we want to test the edge cases!):\n",
    "    is_triangle(1,2,3)\n",
    "    is_triangle(1,2,4)\n",
    "    is_triangle(1,5,3)\n",
    "    is_triangle(6,2,3)\n",
    "    and a function call for\n",
    "    check_stick_lengths()\n",
    "    \"\"\"\n",
    "    is_triangle(1,2,3)\n",
    "    is_triangle(1,2,4)\n",
    "    is_triangle(1,5,3)\n",
    "    is_triangle(6,2,3)\n",
    "\n",
    "if __name__ == \"__main__\":\n",
    "    main()"
   ]
  }
 ],
 "metadata": {
  "kernelspec": {
   "display_name": "Python 3",
   "language": "python",
   "name": "python3"
  },
  "language_info": {
   "codemirror_mode": {
    "name": "ipython",
    "version": 3
   },
   "file_extension": ".py",
   "mimetype": "text/x-python",
   "name": "python",
   "nbconvert_exporter": "python",
   "pygments_lexer": "ipython3",
   "version": "3.7.4"
  }
 },
 "nbformat": 4,
 "nbformat_minor": 2
}
