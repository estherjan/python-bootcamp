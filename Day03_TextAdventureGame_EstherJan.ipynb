{
 "cells": [
  {
   "cell_type": "markdown",
   "metadata": {},
   "source": [
    "# Text Adventure Game\n"
   ]
  },
  {
   "cell_type": "code",
   "execution_count": 1,
   "metadata": {},
   "outputs": [],
   "source": [
    "##############################################################################\n",
    "# Imports\n",
    "from sys import exit"
   ]
  },
  {
   "cell_type": "code",
   "execution_count": 2,
   "metadata": {},
   "outputs": [
    {
     "name": "stdout",
     "output_type": "stream",
     "text": [
      "What's your name?Esther\n"
     ]
    }
   ],
   "source": [
    "username = input(\"What's your name?\")"
   ]
  },
  {
   "cell_type": "markdown",
   "metadata": {},
   "source": [
    "## Function: infinite_stairway_room(count = 0)\n",
    "Takes player to a room with infinite stairway,\n",
    "<br>player has to decide:\n",
    "<br>option1: Take stairs to the gold room.\n",
    "<br>option2: Go around to the back room."
   ]
  },
  {
   "cell_type": "code",
   "execution_count": 3,
   "metadata": {},
   "outputs": [],
   "source": [
    "def infinite_stairway_room(count=0):\n",
    "    print(username + \" walks through the door to see a dimly lit hallway.\")\n",
    "    print(\"At the end of the hallway is a\", count * 'long ', 'staircase'\n",
    "          \" going towards some light\")\n",
    "    print(\"Which direction do you want to go?\")\n",
    "    next = input(\"Take stairs/Turn back\")\n",
    "\n",
    "    # infinite stairs option\n",
    "    if next == \"take stairs\":\n",
    "        print(username + ' takes the stairs,')\n",
    "        if (count > 0):\n",
    "            print(\"but you're not happy about it.\")\n",
    "        #infinite_stairway_room(count + 1) #what is this line doing?\n",
    "        print(username +\" finally got to the top of the stairs and entered another room.\")\n",
    "        gold_room()\n",
    "        \n",
    "    # option 2 == go around to the back room\n",
    "    else:\n",
    "        print(username + \" goes out from the door you came in.\")\n",
    "        back_room()"
   ]
  },
  {
   "cell_type": "markdown",
   "metadata": {},
   "source": [
    "## Function: gold_room()\n",
    "After climbing up the stairs, the player enters a room full of gold.\n",
    "<br>Prompt player to input the amount of gold he/she wants to take.\n",
    "<br>Validate if the input is an integer or other type.\n",
    "<br>If the amount is less than 50, say:\"Nice, you're not greedy, you win!\", then exits the game.\n",
    "<br>If the amount is more than 50, say: \"You greedy goose!\", player will be dead.\n"
   ]
  },
  {
   "cell_type": "code",
   "execution_count": 4,
   "metadata": {},
   "outputs": [],
   "source": [
    "def gold_room():\n",
    "    print(\"This room is full of gold.  How much does \" + username + \" take?\")\n",
    "\n",
    "    next = input()\n",
    "    if \"0\" in next or \"1\" in next:\n",
    "        how_much = int(next)\n",
    "    else:\n",
    "        dead(\"Man, learn to type a number.\")\n",
    "        pass\n",
    "    if how_much < 50:\n",
    "        print(\"Nice, you're not greedy, you win!\")\n",
    "        exit(0)\n",
    "    else:\n",
    "        dead(\"You greedy goose!\")\n",
    "        pass"
   ]
  },
  {
   "cell_type": "markdown",
   "metadata": {},
   "source": [
    "## Function: bear_room()\n",
    "\n",
    "There's a bear in bear_room, user have to decide what action he/she takes:\n",
    "<br>1) Take honey: bear laughs and user died.\n",
    "<br>2) Taunt bear: bear gets angry and chases, user died.\n",
    "<br>3) Open the door: bear moved, user survives to the gold room\n",
    "<br>(In bear_room, make it so that user can enter “take” or “honey”, and just “taunt”, and “open” or “door”)"
   ]
  },
  {
   "cell_type": "code",
   "execution_count": 5,
   "metadata": {},
   "outputs": [],
   "source": [
    "def bear_room():\n",
    "    print(\"There is a bear here.\")\n",
    "    print(\"The bear has a bunch of honey.\")\n",
    "    print(\"The bear is in front of another door.\")\n",
    "    print(\"How is \" + username + \" going to move the bear?\")\n",
    "    bear_moved = False\n",
    "\n",
    "    while True:\n",
    "        next = input(\"Take honey, taunt bear, or open the door? \")\n",
    "\n",
    "        if \"take\" or \"honey\" in next:\n",
    "            dead(\"The bear looks at \" + username + \" then laughs at you.\")\n",
    "        elif \"taunt\" or \"bear\" in next and not bear_moved:\n",
    "            print(\"The bear has moved from the door. \" + username + \" can go through it\"\n",
    "                  \"now.\")\n",
    "            bear_moved = True\n",
    "        elif next == \"taunt bear\" and bear_moved:\n",
    "            dead(\"The bear gets angry and chases\" + username)\n",
    "        elif \"open\" or \"door\" in next and bear_moved:\n",
    "            gold_room()\n",
    "        else:\n",
    "            print(\"I got no idea what that means.\")"
   ]
  },
  {
   "cell_type": "markdown",
   "metadata": {},
   "source": [
    "## Function: cthulhu_room()\n",
    "\n",
    "There's an evil Cthulhu in the room, user have to decide what action he/she takes:\n",
    "<br>1) Flee: User survived and restart the game.\n",
    "<br>2) Make friends: user was eaten.\n",
    "<br>3) Else: wrong answer leads to death."
   ]
  },
  {
   "cell_type": "code",
   "execution_count": 15,
   "metadata": {},
   "outputs": [],
   "source": [
    "def cthulhu_room():\n",
    "    print(\"Here \" + username +\" see the great evil Cthulhu.\")\n",
    "    print(\"He, it, whatever stares at you and you freeze.\")\n",
    "    print(\"Do you flee for your life or try to make friends?\")\n",
    "\n",
    "    next = input(\"Input flee or make friends: \")\n",
    "\n",
    "    if \"flee\" in next:\n",
    "        main()\n",
    "    elif \"friends\" in next:\n",
    "        dead(\"Well that was tasty!\")\n",
    "    else:\n",
    "        dead(\"The evil Cthulhu gives no mercy to one who cannot answer correctly!\")"
   ]
  },
  {
   "cell_type": "markdown",
   "metadata": {},
   "source": [
    "## Function: back_room()\n",
    "The player enters a door in the back of the house\n",
    "<br>Meets a bunch of programmers in the room, decide whether to tell them your name:\n",
    "<br>1) tell name: welcomed by the programmers, and started pythoning without leaving the room\n",
    "<br>2) dead."
   ]
  },
  {
   "cell_type": "code",
   "execution_count": 7,
   "metadata": {},
   "outputs": [],
   "source": [
    "def back_room():\n",
    "    print(username + \" went around the house and found a door in the back.\")\n",
    "    print(username + \" carefully turned the door knob...\")\n",
    "    print(\"However, the door made a loud noise and a group of people inside the room turned and stared at you.\")\n",
    "    print(\"Maybe you should tell them your name, or not?\")\n",
    "    next = input(\"Type in YOUR NAME or NO. \")\n",
    "    if next == username:\n",
    "        print(\"The group welcomed you warmly, and you soon started programming python.\")\n",
    "        print(\"And decided to never leave the room.\")\n",
    "        exit(0)\n",
    "    elif \"no\" or \"No\" or \"NO\" in next:\n",
    "        dead(\"Too bad, they were nice people.\")"
   ]
  },
  {
   "cell_type": "code",
   "execution_count": 8,
   "metadata": {},
   "outputs": [],
   "source": [
    "def dead(why):\n",
    "    print(\"{}\\n You're dead\".format(why))\n",
    "    exit(0)"
   ]
  },
  {
   "cell_type": "markdown",
   "metadata": {},
   "source": [
    "# Text Adventure Game"
   ]
  },
  {
   "cell_type": "code",
   "execution_count": 16,
   "metadata": {},
   "outputs": [
    {
     "name": "stdout",
     "output_type": "stream",
     "text": [
      "Hi there, welcome to the mysterious house...\n",
      "What's your name?Esther\n",
      "Esther is in a dark room.\n",
      "There is a door to your right and left, and...it seems that you can walk forward, too..\n",
      "Which one do you take?\n",
      "Right, left or forward: forward\n",
      "Esther walks through the door to see a dimly lit hallway.\n",
      "At the end of the hallway is a long long long  staircase going towards some light\n",
      "Which direction do you want to go?\n",
      "Take stairs/Turn backturn back\n",
      "Esther goes out from the door you came in.\n",
      "Esther went around the house and found a door in the back.\n",
      "Esther carefully turned the door knob...\n",
      "However, the door made a loud noise and a group of people inside the room turned and stared at you.\n",
      "Maybe you should tell them your name, or not?\n",
      "Type in YOUR NAME or NO. Esther\n",
      "The group welcomed you warmly, and you soon started programming python.\n",
      "And decided to never leave the room.\n"
     ]
    },
    {
     "ename": "SystemExit",
     "evalue": "0",
     "output_type": "error",
     "traceback": [
      "An exception has occurred, use %tb to see the full traceback.\n",
      "\u001b[0;31mSystemExit\u001b[0m\u001b[0;31m:\u001b[0m 0\n"
     ]
    }
   ],
   "source": [
    "##############################################################################\n",
    "def main():\n",
    "    from sys import exit\n",
    "    # gets user input their name\n",
    "    print(\"Hi there, welcome to the mysterious house...\")\n",
    "    username = input(\"What's your name?\")\n",
    "    \n",
    "    # START the TextAdventure game\n",
    "    print(username,\"is in a dark room.\")\n",
    "    print(\"There is a door to your right and left, and...it seems that you can walk forward, too..\")\n",
    "    print(\"Which one do you take?\")\n",
    "    \n",
    "    next = input(\"Right, left or forward: \")\n",
    "    if next == 'right':\n",
    "        print(username + \"entered a messy room without any window\")\n",
    "        bear_room()\n",
    "    elif next == 'left':\n",
    "        print(username + \"entered a room with a large fire in the center of it!\")\n",
    "        cthulhu_room()\n",
    "    elif next == 'forward':\n",
    "        infinite_stairway_room(3)\n",
    "    else:\n",
    "        dead(\"You stumble around the room until you starve.\")\n",
    "\n",
    "if __name__ == '__main__':\n",
    "    main()"
   ]
  }
 ],
 "metadata": {
  "kernelspec": {
   "display_name": "Python 3",
   "language": "python",
   "name": "python3"
  },
  "language_info": {
   "codemirror_mode": {
    "name": "ipython",
    "version": 3
   },
   "file_extension": ".py",
   "mimetype": "text/x-python",
   "name": "python",
   "nbconvert_exporter": "python",
   "pygments_lexer": "ipython3",
   "version": "3.7.4"
  }
 },
 "nbformat": 4,
 "nbformat_minor": 2
}
