{
 "cells": [
  {
   "cell_type": "markdown",
   "metadata": {},
   "source": [
    "# Caesar Cipher"
   ]
  },
  {
   "cell_type": "code",
   "execution_count": 81,
   "metadata": {},
   "outputs": [],
   "source": [
    "# Structure this script entirely on your own.\n",
    "# See Chapter 8: Strings Exercise 5 for the task.\n",
    "# Please do provide function calls that test/demonstrate your\n",
    "# function.\n",
    "# Please write a docstring for every function you write.\n",
    "\n",
    "def rotate_letter(letter,n):\n",
    "    new_letter_int = ord(letter) + n\n",
    "    return chr(new_letter_int)\n",
    "    \n",
    "def rotate_word(word, n):\n",
    "    new_word = ''\n",
    "    for letter in word:\n",
    "        new_word = new_word + rotate_letter(letter,n)\n",
    "    return new_word"
   ]
  },
  {
   "cell_type": "code",
   "execution_count": 82,
   "metadata": {
    "scrolled": true
   },
   "outputs": [
    {
     "data": {
      "text/plain": [
       "'edqdqd'"
      ]
     },
     "execution_count": 82,
     "metadata": {},
     "output_type": "execute_result"
    }
   ],
   "source": [
    "rotate_word('banana',3)"
   ]
  },
  {
   "cell_type": "markdown",
   "metadata": {},
   "source": [
    "## Question:\n",
    "I tried an abbreviated version of the above code (see below),\n",
    "However, this version gives me answer like this:\n",
    "`rotate_word('banana', 3)`\n",
    "<br>e\n",
    "<br>d\n",
    "<br>q\n",
    "<br>d\n",
    "<br>q\n",
    "<br>d\n",
    "\n",
    "letters are printed one by one rather than in a line.\n",
    "\n",
    "I'm thinking:\n",
    "<br>1) perhaps I have to define “new_word” as blank first, instead of just assigning it as a variable\n",
    "<br>2) perhaps there’s some difference between “print” and “return”\n",
    "\n",
    "Is there anyway to fix this code below?"
   ]
  },
  {
   "cell_type": "code",
   "execution_count": 89,
   "metadata": {},
   "outputs": [],
   "source": [
    "def rotate_word2(string, num):\n",
    "    for letter in string:\n",
    "        ord_letter = ord(letter)                     #convert string to be represented in ordinal\n",
    "        new_word_ord = (ord_letter + num)   #adding num to ordinal.\n",
    "        new_word = chr(new_word_ord)        #convert ordinal word back to new word.\n",
    "\n",
    "        print(new_word)"
   ]
  },
  {
   "cell_type": "code",
   "execution_count": 90,
   "metadata": {},
   "outputs": [
    {
     "name": "stdout",
     "output_type": "stream",
     "text": [
      "e\n",
      "d\n",
      "q\n",
      "d\n",
      "q\n",
      "d\n"
     ]
    }
   ],
   "source": [
    "rotate_word2('banana', 3)"
   ]
  }
 ],
 "metadata": {
  "kernelspec": {
   "display_name": "Python 3",
   "language": "python",
   "name": "python3"
  },
  "language_info": {
   "codemirror_mode": {
    "name": "ipython",
    "version": 3
   },
   "file_extension": ".py",
   "mimetype": "text/x-python",
   "name": "python",
   "nbconvert_exporter": "python",
   "pygments_lexer": "ipython3",
   "version": "3.7.4"
  }
 },
 "nbformat": 4,
 "nbformat_minor": 2
}
