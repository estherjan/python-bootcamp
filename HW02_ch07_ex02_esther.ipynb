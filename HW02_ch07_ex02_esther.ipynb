{
 "cells": [
  {
   "cell_type": "code",
   "execution_count": 54,
   "metadata": {},
   "outputs": [
    {
     "name": "stdout",
     "output_type": "stream",
     "text": [
      "Type in something and I'll evaluate: 8*8\n",
      "64\n",
      "Type in something and I'll evaluate: 9*7+17\n",
      "80\n",
      "Type in something and I'll evaluate: done\n",
      "80\n",
      "None\n"
     ]
    }
   ],
   "source": [
    "# The built-in function eval takes a string and evaluates it using the Python\n",
    "# interpreter.\n",
    "# For example:\n",
    "\n",
    "#     >>> eval('1 + 2 * 3')\n",
    "#     7\n",
    "#     >>> import math\n",
    "#     >>> eval('math.sqrt(5)')\n",
    "#     2.2360679774997898\n",
    "#     >>> eval('type(math.pi)')\n",
    "#     <type 'float'>\n",
    "\n",
    "# Write a function called eval_loop that iteratively prompts the user, takes\n",
    "# the resulting input and evaluates it using eval, and prints the result.\n",
    "\n",
    "# It should continue until the user enters 'done', and then return the value of\n",
    "# the last expression it evaluated.\n",
    "\n",
    "# Here is an opportunity to use things like `try`, `except`, and/or `finally`.\n",
    "\n",
    "# Please write a docstring for every function you write.\n",
    "\n",
    "###############################################################################\n",
    "# Imports\n",
    "import math\n",
    "\n",
    "# Body\n",
    "def eval_loop():\n",
    "    user_input = input(\"Type in something and I'll evaluate: \")\n",
    "    try:\n",
    "        print(eval(user_input))\n",
    "        eval_loop()\n",
    "    except:\n",
    "        user_input == \"done\"\n",
    "        previous_result = eval(user_input)\n",
    "        print(previous_result)\n",
    "\n",
    "###############################################################################\n",
    "def main():\n",
    "    \n",
    "    print(eval_loop())\n",
    "\n",
    "\n",
    "if __name__ == '__main__':\n",
    "    main()\n",
    "\n"
   ]
  },
  {
   "cell_type": "markdown",
   "metadata": {},
   "source": [
    "# Question:\n",
    "I tried to use try/except/finally to solve this problem.\n",
    "I wanted to add in one more thing into this function, to make the program respond \"I can't calculate it.\" when the user_input isn't a string of mathematical problem.\n",
    "However, the code below will include 'done' as a NameError, which makes it automatically print out \"I can't calculate it.\"\n",
    "\n",
    "Is there anyway to solve it?\n",
    "To make the program able to recognize the difference between \"done\" and other general NameError?"
   ]
  },
  {
   "cell_type": "code",
   "execution_count": 6,
   "metadata": {},
   "outputs": [],
   "source": [
    "# can't recognize 'done'\n",
    "previous_result = None \n",
    "def eval_loop():\n",
    "    user_input = input(\"type in something and I'll evaluate: \")\n",
    "    if user_input == \"done\":\n",
    "        previous_result = eval(user_input)\n",
    "        print(previous_result)\n",
    "    else:\n",
    "        try:\n",
    "            print(eval(user_input))\n",
    "            eval_loop()\n",
    "        except (NameError, ValueError):\n",
    "            print(\"I can't calculate it.\")\n",
    "            eval_loop()"
   ]
  },
  {
   "cell_type": "code",
   "execution_count": 7,
   "metadata": {},
   "outputs": [
    {
     "name": "stdout",
     "output_type": "stream",
     "text": [
      "type in something and I'll evaluate: done\n"
     ]
    },
    {
     "ename": "NameError",
     "evalue": "name 'done' is not defined",
     "output_type": "error",
     "traceback": [
      "\u001b[0;31m---------------------------------------------------------------------------\u001b[0m",
      "\u001b[0;31mNameError\u001b[0m                                 Traceback (most recent call last)",
      "\u001b[0;32m<ipython-input-7-efc8b6ab7df9>\u001b[0m in \u001b[0;36m<module>\u001b[0;34m\u001b[0m\n\u001b[0;32m----> 1\u001b[0;31m \u001b[0meval_loop\u001b[0m\u001b[0;34m(\u001b[0m\u001b[0;34m)\u001b[0m\u001b[0;34m\u001b[0m\u001b[0;34m\u001b[0m\u001b[0m\n\u001b[0m",
      "\u001b[0;32m<ipython-input-6-fbf48d0004c7>\u001b[0m in \u001b[0;36meval_loop\u001b[0;34m()\u001b[0m\n\u001b[1;32m      3\u001b[0m     \u001b[0muser_input\u001b[0m \u001b[0;34m=\u001b[0m \u001b[0minput\u001b[0m\u001b[0;34m(\u001b[0m\u001b[0;34m\"type in something and I'll evaluate: \"\u001b[0m\u001b[0;34m)\u001b[0m\u001b[0;34m\u001b[0m\u001b[0;34m\u001b[0m\u001b[0m\n\u001b[1;32m      4\u001b[0m     \u001b[0;32mif\u001b[0m \u001b[0muser_input\u001b[0m \u001b[0;34m==\u001b[0m \u001b[0;34m\"done\"\u001b[0m\u001b[0;34m:\u001b[0m\u001b[0;34m\u001b[0m\u001b[0;34m\u001b[0m\u001b[0m\n\u001b[0;32m----> 5\u001b[0;31m         \u001b[0mprevious_result\u001b[0m \u001b[0;34m=\u001b[0m \u001b[0meval\u001b[0m\u001b[0;34m(\u001b[0m\u001b[0muser_input\u001b[0m\u001b[0;34m)\u001b[0m\u001b[0;34m\u001b[0m\u001b[0;34m\u001b[0m\u001b[0m\n\u001b[0m\u001b[1;32m      6\u001b[0m         \u001b[0mprint\u001b[0m\u001b[0;34m(\u001b[0m\u001b[0mprevious_result\u001b[0m\u001b[0;34m)\u001b[0m\u001b[0;34m\u001b[0m\u001b[0;34m\u001b[0m\u001b[0m\n\u001b[1;32m      7\u001b[0m     \u001b[0;32melse\u001b[0m\u001b[0;34m:\u001b[0m\u001b[0;34m\u001b[0m\u001b[0;34m\u001b[0m\u001b[0m\n",
      "\u001b[0;32m<string>\u001b[0m in \u001b[0;36m<module>\u001b[0;34m\u001b[0m\n",
      "\u001b[0;31mNameError\u001b[0m: name 'done' is not defined"
     ]
    }
   ],
   "source": [
    "eval_loop()"
   ]
  },
  {
   "cell_type": "code",
   "execution_count": 24,
   "metadata": {},
   "outputs": [],
   "source": [
    "# corrected by Michael\n",
    "\n",
    "def eval_loop(previous_result = None):\n",
    "    user_input = input(\"type in something and I'll evaluate: \")\n",
    "    if user_input == \"done\":\n",
    "        print(\"previous result: \" + str(previous_result))\n",
    "    else:\n",
    "        try:\n",
    "            previous_result = eval(user_input)\n",
    "            print(previous_result)\n",
    "            eval_loop(previous_result)\n",
    "        except (NameError, ValueError, TypeError):\n",
    "            print(\"I can't calculate it.\")\n",
    "            eval_loop(previous_result)"
   ]
  },
  {
   "cell_type": "code",
   "execution_count": 25,
   "metadata": {},
   "outputs": [
    {
     "name": "stdout",
     "output_type": "stream",
     "text": [
      "type in something and I'll evaluate: 8*8\n",
      "64\n",
      "type in something and I'll evaluate: done\n",
      "previous result: 64\n"
     ]
    }
   ],
   "source": [
    "eval_loop()"
   ]
  },
  {
   "cell_type": "code",
   "execution_count": null,
   "metadata": {},
   "outputs": [],
   "source": []
  }
 ],
 "metadata": {
  "kernelspec": {
   "display_name": "Python 3",
   "language": "python",
   "name": "python3"
  },
  "language_info": {
   "codemirror_mode": {
    "name": "ipython",
    "version": 3
   },
   "file_extension": ".py",
   "mimetype": "text/x-python",
   "name": "python",
   "nbconvert_exporter": "python",
   "pygments_lexer": "ipython3",
   "version": "3.7.4"
  }
 },
 "nbformat": 4,
 "nbformat_minor": 2
}
