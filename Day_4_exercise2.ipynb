{
 "cells": [
  {
   "cell_type": "markdown",
   "metadata": {},
   "source": [
    "## lists exercise\n",
    "\n",
    "write a function that reads roster.txt and prints the following: \n",
    "<br>\"A list of first and GitHub usernames (User):\" \n",
    "<br>[First User, First User, First User, etc.] \n",
    "<br>\"A list of lists of first and username:\" \n",
    "<br>[[First, User], [First, User], [First, User], etc.] \n",
    "<br>\"A list of first names sorted by length:\" \n",
    "<br>[ShortFirst, LongFirst, LongerFirst, etc.]"
   ]
  },
  {
   "cell_type": "code",
   "execution_count": 16,
   "metadata": {},
   "outputs": [],
   "source": [
    "import os\n",
    "os.chdir(\"/Users/janjan/python-bootcamp/Day_4\") #importing the roster.txt file.\n",
    "\n",
    "def read_file():\n",
    "    RosterFile = open('roster.txt', 'r') #opening the file.\n",
    "    list1 = [] #create a blank list for the first task\n",
    "    list2 = [] #create a blank list for the second task\n",
    "    list3 = [] #create a blank list for the third task\n",
    "    \n",
    "    print(\"A list of first and GitHub usernames(User):\")\n",
    "    for lines in RosterFile:\n",
    "        line = lines.rstrip() #rstrip() strips the things behind the word\n",
    "        list1.append(line1) #.append adds items into the blank list1\n",
    "    print(list1)\n",
    "    \n",
    "    print(\"A list of lists of first and username:\")\n",
    "    for word in range(len(list1)):\n",
    "        separate_name_list = list1[word].split(' ')\n",
    "        list2.append(separate_name_list)\n",
    "    print(list2)\n",
    "    \n",
    "    print(\"A list of first names sorted by length:\")\n",
    "    for item in list2:\n",
    "        list3.append(item[0])\n",
    "    sorted_by_length = sorted(list3, key = len)\n",
    "    print(sorted_by_length)"
   ]
  },
  {
   "cell_type": "code",
   "execution_count": 17,
   "metadata": {},
   "outputs": [
    {
     "name": "stdout",
     "output_type": "stream",
     "text": [
      "A list of first and GitHub usernames(User):\n",
      "['Prakhar prakharchandna', 'Tiffany nameistiffyp', 'Mandy mleung32', 'Akshara akshara08', 'Nicole nicoletchi', 'Manasi manasi1994', 'Ramya Ramya0694', 'Max maxmir20', 'Brinda brinsga', 'Yin qyinhelena', 'Min Hyung chung-grace', 'Arika ArikaVerma', 'Esther estherjan', 'Nitin NiStannum', 'Joanne joannejia17']\n",
      "A list of lists of first and username:\n",
      "[['Prakhar', 'prakharchandna'], ['Tiffany', 'nameistiffyp'], ['Mandy', 'mleung32'], ['Akshara', 'akshara08'], ['Nicole', 'nicoletchi'], ['Manasi', 'manasi1994'], ['Ramya', 'Ramya0694'], ['Max', 'maxmir20'], ['Brinda', 'brinsga'], ['Yin', 'qyinhelena'], ['Min', 'Hyung', 'chung-grace'], ['Arika', 'ArikaVerma'], ['Esther', 'estherjan'], ['Nitin', 'NiStannum'], ['Joanne', 'joannejia17']]\n",
      "A list of first names sorted by length:\n",
      "['Max', 'Yin', 'Min', 'Mandy', 'Ramya', 'Arika', 'Nitin', 'Nicole', 'Manasi', 'Brinda', 'Esther', 'Joanne', 'Prakhar', 'Tiffany', 'Akshara']\n"
     ]
    }
   ],
   "source": [
    "read_file()"
   ]
  }
 ],
 "metadata": {
  "kernelspec": {
   "display_name": "Python 3",
   "language": "python",
   "name": "python3"
  },
  "language_info": {
   "codemirror_mode": {
    "name": "ipython",
    "version": 3
   },
   "file_extension": ".py",
   "mimetype": "text/x-python",
   "name": "python",
   "nbconvert_exporter": "python",
   "pygments_lexer": "ipython3",
   "version": "3.7.4"
  }
 },
 "nbformat": 4,
 "nbformat_minor": 2
}
