{
 "cells": [
  {
   "cell_type": "code",
   "execution_count": null,
   "metadata": {},
   "outputs": [],
   "source": [
    "# HW01_ch02_ex00_02\n",
    "# NOTE: You do not run this script.\n",
    "# Assume that we execute the following assignment statements:\n",
    "# width = 17\n",
    "# height = 12.0\n",
    "# delimiter = '.'\n",
    "#\n",
    "# For each of the following expressions, write the value of the expression\n",
    "# and the type (of the value of the expression).\n",
    "\n",
    "1. width/2\n",
    "value: 8.5\n",
    "type: float\n",
    "\n",
    "2. width/2.0\n",
    "value: 8.5\n",
    "type: float\n",
    "\n",
    "3. height/3\n",
    "value: 4.0\n",
    "type: float\n",
    "#when a variable is defined to be a float number, even though the amount behind the . is 0, \n",
    "#it will still remain to be a float number.\n",
    "\n",
    "4. 1 + 2 * 5\n",
    "value: 11\n",
    "type: integer\n",
    "\n",
    "5. delimiter * 5\n",
    "value: .....\n",
    "type: string\n",
    "#the content of a string can be multiplied.\n",
    "\n",
    "#\n",
    "# Use the Python interpreter to check your answers.\n",
    "# [comment on any surprises here]\n",
    "#\n",
    "\n"
   ]
  }
 ],
 "metadata": {
  "kernelspec": {
   "display_name": "Python 3",
   "language": "python",
   "name": "python3"
  },
  "language_info": {
   "codemirror_mode": {
    "name": "ipython",
    "version": 3
   },
   "file_extension": ".py",
   "mimetype": "text/x-python",
   "name": "python",
   "nbconvert_exporter": "python",
   "pygments_lexer": "ipython3",
   "version": "3.7.4"
  }
 },
 "nbformat": 4,
 "nbformat_minor": 2
}
