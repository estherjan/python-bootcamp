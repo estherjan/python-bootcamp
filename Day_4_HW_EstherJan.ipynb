{
 "cells": [
  {
   "cell_type": "markdown",
   "metadata": {},
   "source": [
    "# Day_4 HW"
   ]
  },
  {
   "cell_type": "markdown",
   "metadata": {},
   "source": [
    "## HW4_ch09_ex02"
   ]
  },
  {
   "cell_type": "markdown",
   "metadata": {},
   "source": [
    "(1)\n",
    "Write a function called has_no_e that returns True if the given word doesn't\n",
    "have the letter \"e\" in it.\n",
    "- write has_no_e\n",
    "\n",
    "(2)\n",
    "Modify your program from 9.1 to print only the words that have no \"e\" and\n",
    "compute the percentage of the words in the list that have no \"e\".\n",
    "  - print each approved word on new line, followed at the end by the %\n",
    "  - name your function print_no_e"
   ]
  },
  {
   "cell_type": "code",
   "execution_count": null,
   "metadata": {},
   "outputs": [],
   "source": [
    "##############################################################################\n",
    "# Imports\n",
    "\n",
    "# Body\n",
    "def has_no_e(word):\n",
    "    for letter in word:\n",
    "        if letter == 'e' or letter == 'E':\n",
    "            return False\n",
    "    return True\n",
    "        \n",
    "def print_no_e(*lst):\n",
    "    count_total = 0 #counting total words in the list\n",
    "    count_no_e = 0 #counting total words without e in the list\n",
    "    for line in lst:\n",
    "        word = line.strip()\n",
    "        if has_no_e(word):\n",
    "            print(word)\n",
    "            count_no_e = count_no_e+1 \n",
    "        count_total = count_total + 1\n",
    "    print((count_no_e)/count_total) #calculate the percentage of words without e in the list\n",
    "            \n",
    "##############################################################################"
   ]
  },
  {
   "cell_type": "code",
   "execution_count": null,
   "metadata": {},
   "outputs": [],
   "source": [
    "def main():\n",
    "    pass  # Call your function(s) here.\n",
    "    has_no_e('paper')\n",
    "    \n",
    "    lst = ['apple','banana', 'melon', 'scissor', 'box', 'window']\n",
    "    print_no_e(*lst)\n",
    "if __name__ == '__main__':\n",
    "    main()"
   ]
  },
  {
   "cell_type": "markdown",
   "metadata": {},
   "source": [
    "## HW04_ch09_ex03"
   ]
  },
  {
   "cell_type": "markdown",
   "metadata": {},
   "source": [
    " (1)\n",
    "Write a function named avoids that takes a word and a string of forbidden\n",
    "letters, and that returns True if the word doesn't use any of the forbidden\n",
    "letters.\n",
    "  - write avoids\n",
    "\n",
    "<br>(2)\n",
    "Modify your program to prompt the user to enter a string of forbidden\n",
    "letters and then print the number of words that don't contain any of them.\n",
    "  - write forbidden_prompt and\n",
    "  - modify to create forbidden_param that accepts the string as an argument\n",
    "\n",
    "<br>(3)\n",
    "Can you find a combination of 5 forbidden letters that excludes the smallest\n",
    "number of words?\n",
    "- write a function that finds this combination of letters: find_five\n",
    "- have that function print the letters and print the # of words excluded"
   ]
  },
  {
   "cell_type": "code",
   "execution_count": null,
   "metadata": {},
   "outputs": [],
   "source": [
    "##############################################################################\n",
    "# Imports\n",
    "\n",
    "# Body\n",
    "\n",
    "\n",
    "def avoids(word, forbidden_string):\n",
    "    for letter in word:\n",
    "        if letter in forbidden_string:\n",
    "            return False\n",
    "    return True\n",
    "pass\n",
    "\n",
    "\n",
    "def forbidden_prompt(lst):\n",
    "    forbidden = input(\"Enter a string of forbidden letters: \")\n",
    "    forbidden_list = forbidden.split()\n",
    "    count = 0\n",
    "    \n",
    "    for word in lst:\n",
    "        if avoids(word, forbidden_list):\n",
    "            count = count + 1\n",
    "    \n",
    "    print(\"The number of words that doesn't have forbbiden letters: {0}\".format(count) )\n",
    "    pass\n",
    "\n",
    "\n",
    "def forbidden_param():\n",
    "    string = input(\"Enter the letters you want to avoid: \")\n",
    "    \n",
    "    \n",
    "def forbidden_param(string):\n",
    "    forbidden = string.split()\n",
    "    sentence = 'apples are good'\n",
    "    count = 0\n",
    "    words = sentence.split()\n",
    "    for letters in words:\n",
    "        if letters in forbidden:\n",
    "            count = count\n",
    "        else:\n",
    "            count = count +1\n",
    "        return count\n",
    "    pass\n",
    "\n",
    "\n",
    "def find_five():\n",
    "    #wasn't able to figure this out\n",
    "    pass\n",
    "\n",
    "\n",
    "##############################################################################"
   ]
  },
  {
   "cell_type": "code",
   "execution_count": null,
   "metadata": {},
   "outputs": [],
   "source": [
    "def main():\n",
    "    pass\n",
    "    # Your final submission should only call five_five\n",
    "\n",
    "\n",
    "if __name__ == '__main__':\n",
    "    main()"
   ]
  },
  {
   "cell_type": "markdown",
   "metadata": {},
   "source": [
    "### Questions about \"forbbiden_prompt\"\n",
    "\n",
    "I have two questions about this exercise that I can't fix:\n",
    "\n",
    "<br>1)\n",
    "<br>The current code only allows the user to input one letter as the forbbiden letter.\n",
    "<br>It doesn't allow a \"string\" of forbidden letters.\n",
    "<br>Whenever I input more than one letter, say 'abcde', the output will become '3', which is just the total amount of words in the list.\n",
    "<br>What's missing in my code, and is there anyway to fix it?\n",
    "\n",
    "<br>2)\n",
    "<br>I tried an approach where I can use a \"string\" as the parameter (rather than a list), see below:\n",
    "<br>However, this code doesn't even provide output....."
   ]
  },
  {
   "cell_type": "code",
   "execution_count": null,
   "metadata": {},
   "outputs": [],
   "source": [
    "def forbidden_prompt(string):\n",
    "    forbidden = input(\"Enter a string of forbidden letters: \")\n",
    "    words = string.split()\n",
    "    count = 0\n",
    "    for letter in words:\n",
    "        if letter in forbidden:\n",
    "            count = count\n",
    "    else:\n",
    "        count = count + 1\n",
    "    \n",
    "forbidden_prompt('apples are good')"
   ]
  },
  {
   "cell_type": "markdown",
   "metadata": {},
   "source": [
    "### Questions about find_five():\n",
    "\n",
    "I wanted to create a function that can:\n",
    "<br> 1) read the whole words.txt file\n",
    "<br> 2) count how many times each alphabet shows up in the txt file.\n",
    "<br> 3) sort the alphabet in the \"least showing\" order\n",
    "<br> 4) put the top 5 alphabets that has shown the least into the \"forbidden\" string.\n",
    "\n",
    "but I couldn't figure out how to do the 2) step."
   ]
  },
  {
   "cell_type": "code",
   "execution_count": null,
   "metadata": {},
   "outputs": [],
   "source": [
    "#try it after class.\n",
    "\n",
    "for word in words:\n",
    "    if letter in word\n",
    "    n.dict[letter].append(word)"
   ]
  },
  {
   "cell_type": "markdown",
   "metadata": {},
   "source": [
    "## HW04_ch09_ex04\n",
    "\n",
    "<br>(1)\n",
    "<br>Write a function named uses_only that takes a word and a string of letters,\n",
    "<br>and that returns True if the word contains only letters in the list.\n",
    "<br>  - write uses_only\n",
    "<br>(2)\n",
    "<br>Can you make a sentence using only the letters acefhlo? Other than \"Hoe\n",
    "<br>alfalfa?\"\n",
    "<br>  - write function to assist you\n",
    "<br>  - manually type favorite sentence(s) here:\n",
    "<br>      1:\n",
    "<br>      2:\n",
    "<br>      3:"
   ]
  },
  {
   "cell_type": "code",
   "execution_count": null,
   "metadata": {},
   "outputs": [],
   "source": [
    "##############################################################################\n",
    "# Imports\n",
    "\n",
    "# Body\n",
    "def uses_only(word, string):\n",
    "    for letter in word:\n",
    "        if letter not in string:\n",
    "            return False\n",
    "    return True\n",
    "\n",
    "# Have problem solving the second problem, using 'acefhlo' to make a sentence...\n",
    "# not sure how to start.\n",
    "\n",
    "##############################################################################"
   ]
  },
  {
   "cell_type": "code",
   "execution_count": null,
   "metadata": {},
   "outputs": [],
   "source": [
    "def main():\n",
    "    uses_only('applepie', 'aplei')\n",
    "    pass  # Call your function(s) here.\n",
    "\n",
    "if __name__ == '__main__':\n",
    "    main()"
   ]
  },
  {
   "cell_type": "markdown",
   "metadata": {},
   "source": [
    " ## HW04_ch09_ex05\n",
    " (1)\n",
    "<br>Write a function named uses_all that takes a word and a string of required\n",
    "<br>letters, and that returns True if the word uses all the required letters at\n",
    "<br>least once.\n",
    "<br>  - write uses_all\n",
    "<br>(2)\n",
    "<br>How many words are there that use all the vowels aeiou? How about\n",
    "<br>aeiouy?\n",
    "<br>  - write functions(s) to assist you\n",
    "<br>  - # of words that use all aeiou: [type here]\n",
    "<br>  - # of words that use all aeiouy: [type here]"
   ]
  },
  {
   "cell_type": "code",
   "execution_count": null,
   "metadata": {},
   "outputs": [],
   "source": [
    "##############################################################################\n",
    "# Imports\n",
    "import os\n",
    "os.chdir(\"/Users/janjan/python-bootcamp\") #folder/path/of/where/the/file/is\n",
    "wordsFile = open('words.txt', 'r')\n",
    "wordsList = wordsFile.read().split()\n",
    "\n",
    "# Body\n",
    "def uses_all(word, string):\n",
    "    for letter in string:\n",
    "        if letter not in word: #uses 'not in' since we only want it to happen once\n",
    "            return False\n",
    "    return True #only return 'True' after all required letters are used\n",
    "\n",
    "def vowels(lst):\n",
    "    string = 'aeiou'\n",
    "    count = 0\n",
    "    for word in lst:\n",
    "        if uses_all(word, string):\n",
    "            count += 1\n",
    "    return print(\"The number of words that contains all the vowels: {0}\".format(count))\n",
    "\n",
    "def aeiouy(lst):\n",
    "    string = 'aeiouy'\n",
    "    count = 0\n",
    "    for word in lst:\n",
    "        if uses_all(word, string):\n",
    "            count += 1\n",
    "    return print(\"The number of words that contains all 'aeiouy': {0}\".format(count))\n",
    "\n",
    "##############################################################################"
   ]
  },
  {
   "cell_type": "code",
   "execution_count": null,
   "metadata": {},
   "outputs": [],
   "source": [
    "def main():\n",
    "    uses_all('banana','na')\n",
    "    uses_all('watermelon','xyz')\n",
    "    pass  # Call your function(s) here.\n",
    "\n",
    "    vowels(wordsList) #Find words with all vowels 'aeiou' in it\n",
    "\n",
    "    aeiouy(wordsList) #Find number of words with 'aeiouy' in it\n",
    "\n",
    "if __name__ == '__main__':\n",
    "    main()"
   ]
  },
  {
   "cell_type": "markdown",
   "metadata": {},
   "source": [
    "## HW04_ch09_ex06\n",
    "(1)\n",
    "<br>Write a function called is_abecedarian that returns True if the letters in a\n",
    "<br>word appear in alphabetical order (double letters are ok).\n",
    "<br> - write is_abecedarian\n",
    "<br>(2)\n",
    "<br>How many abecedarian words are there in roster.txt?\n",
    "<br> - write additional function(s) to assist you\n",
    "<br> - number of abecedarian words:"
   ]
  },
  {
   "cell_type": "code",
   "execution_count": null,
   "metadata": {},
   "outputs": [],
   "source": [
    "##############################################################################\n",
    "# Imports\n",
    "os.chdir(\"/Users/janjan/python-bootcamp/Day_4\")\n",
    "fin = open(\"roster.txt\",\"r\")\n",
    "words = fin.read().split()\n",
    "\n",
    "# Body\n",
    "def is_abecedarian(word):\n",
    "    i = 0\n",
    "    while i < len(word) - 1:\n",
    "        if word[i] > word[i + 1]:\n",
    "            return False\n",
    "        i = i + 1\n",
    "    return True\n",
    "\n",
    "\n",
    "def how_many_abecedarian():\n",
    "    with open(\"roster.txt\", \"r\") as fin:\n",
    "        words = [word.strip() for word in fin.readlines()]\n",
    "    return sum([is_abecedarian(word) for word in words])\n",
    "\n",
    "\n",
    "##############################################################################"
   ]
  },
  {
   "cell_type": "code",
   "execution_count": null,
   "metadata": {},
   "outputs": [],
   "source": [
    "def main():\n",
    "    pass  # Call your function(s) here.\n",
    "    print(is_abecedarian(\"abc\"))\n",
    "    print(is_abecedarian(\"zyxwvutsrqponmlkjihgfedcba\"))\n",
    "    print(how_many_abecedarian())\n",
    "\n",
    "\n",
    "if __name__ == '__main__':\n",
    "    main()"
   ]
  },
  {
   "cell_type": "markdown",
   "metadata": {},
   "source": [
    "## HW04_ch10_ex01\n",
    "I want to be able to call nested_sum from main w/ various nested lists\n",
    "<br>and I greatly desire that the function returns the sum.\n",
    "<br>Example of nested list: [1, 2, [3]]\n",
    "<br>\n",
    "<br>I will be calling things like this: nested_sum([[1, 2], [3], [4, 5, 6]])\n",
    "<br>I will be expected that to return, in this case, 21\n",
    "<br>\n",
    "<br>Verify you've tested w/ various nestings (perhaps by writing a test function\n",
    "<br>like in the string exercises from Google (string1.py and string2.py))\n",
    "<br>\n",
    "<br>In your final submission:\n",
    "<br> - Do not print anything extraneous.\n",
    "<br> - Do not put anything but pass in main()"
   ]
  },
  {
   "cell_type": "code",
   "execution_count": null,
   "metadata": {},
   "outputs": [],
   "source": [
    "##############################################################################\n",
    "def flatten(li): #flatten the list first\n",
    "    return sum(([x] if not isinstance(x, list) else flatten (x) for x in li), [])"
   ]
  },
  {
   "cell_type": "code",
   "execution_count": null,
   "metadata": {},
   "outputs": [],
   "source": [
    " def nested_sum(li): #then calculate the sum\n",
    "    total = sum(flatten(li))\n",
    "    return total"
   ]
  },
  {
   "cell_type": "code",
   "execution_count": null,
   "metadata": {},
   "outputs": [],
   "source": [
    "def test(got, expected): #testing in the functions work\n",
    "    if got == expected:\n",
    "        prefix = ' OK '\n",
    "    else:\n",
    "        prefix = '  X '\n",
    "    print('{} got: {} expected: {}'.format(prefix, repr(got), repr(expected\n",
    "############################################################################## "
   ]
  },
  {
   "cell_type": "code",
   "execution_count": null,
   "metadata": {},
   "outputs": [],
   "source": [
    "def main():\n",
    "    print('nested_sum')\n",
    "    test(nested_sum([1, 2, [3], [4, [5, 6]]]), 21)\n",
    "    test(nested_sum([[3,5],8,9,10,[17,20]]), 72)\n",
    "    \n",
    "if __name__ == '__main__':\n",
    "    main()"
   ]
  }
 ],
 "metadata": {
  "kernelspec": {
   "display_name": "Python 3",
   "language": "python",
   "name": "python3"
  },
  "language_info": {
   "codemirror_mode": {
    "name": "ipython",
    "version": 3
   },
   "file_extension": ".py",
   "mimetype": "text/x-python",
   "name": "python",
   "nbconvert_exporter": "python",
   "pygments_lexer": "ipython3",
   "version": "3.7.4"
  }
 },
 "nbformat": 4,
 "nbformat_minor": 2
}
