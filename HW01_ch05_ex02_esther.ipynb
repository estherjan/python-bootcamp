{
 "cells": [
  {
   "cell_type": "code",
   "execution_count": 2,
   "metadata": {},
   "outputs": [
    {
     "name": "stdout",
     "output_type": "stream",
     "text": [
      "No, that doesn't work.\n"
     ]
    }
   ],
   "source": [
    "#!/usr/bin/env python\n",
    "# HW02_ch05_ex02\n",
    "\n",
    "# Fermat's Last Theorem says that there are no positive integers a, b, and c\n",
    "# such that\n",
    "#        a^n + b^n = c^n\n",
    "# for any values of n greater than 2.\n",
    "\n",
    "# (1) Write a function named `check_fermat` that takes four parameters-a, b, c\n",
    "# and n-and that checks to see if Fermat's theorem holds. If n is greater than\n",
    "# 2 and it turns out to be true that\n",
    "#        a^n + b^n = c^n\n",
    "# the program should print, \"Holy smokes, Fermat was wrong!\"\"\n",
    "# Otherwise the program should print, \"No, that doesn't work.\"\n",
    "\n",
    "def check_fermat(a, b, c, n):\n",
    "    if n > 2 :\n",
    "        if a**n + b**n == c**n:\n",
    "            print(\"Holy smokes, Fermat was wrong!\")\n",
    "        \n",
    "        else:\n",
    "            print(\"No, that doesn't work.\")\n",
    "\n",
    "# (2) Write a function named `check_fermat_ints` that prompts the user to input\n",
    "# values for a, b, c and n, converts them to integers, and uses check_fermat\n",
    "# to check whether they violate Fermat's theorem.\n",
    "\n",
    "###############################################################################\n",
    "# Write your functions below:\n",
    "# Body\n",
    "def check_fermat(a, b, c, n):\n",
    "    if n > 2 :\n",
    "        if a**n + b**n == c**n:\n",
    "            print(\"Holy smokes, Fermat was wrong!\")\n",
    "        \n",
    "        else:\n",
    "            print(\"No, that doesn't work.\")\n",
    "\n",
    "def check_fermat_ints():\n",
    "    a = int(input(\"Type in a number for a: \"))\n",
    "    b = int(input(\"Type in a number for b: \"))\n",
    "    c = int(input(\"Type in a number for c: \"))\n",
    "    n = int(input(\"Type in a number for n: \"))\n",
    "    return check_fermat(a, b, c, n)\n",
    "\n",
    "# Write your functions above:\n",
    "###############################################################################\n",
    "def main():\n",
    "    \"\"\"Call your function within this function.\n",
    "    When complete have one function call in this function:\n",
    "    check_fermat_ints(1,2,3,4)\n",
    "    and two functions defined in the body:\n",
    "    check_fermat_ints()\n",
    "    check_fermat()\n",
    "    \"\"\"\n",
    "    \n",
    "def check_fermat(a, b, c, n):\n",
    "    if n > 2 :\n",
    "        if a**n + b**n == c**n:\n",
    "            print(\"Holy smokes, Fermat was wrong!\")\n",
    "\n",
    "        else:\n",
    "            print(\"No, that doesn't work.\")\n",
    "a = int\n",
    "b = int\n",
    "c = int\n",
    "d = int\n",
    "            \n",
    "def check_fermat_ints(a, b, c, n):\n",
    "    return check_fermat(a, b, c, n)\n",
    "    \n",
    "check_fermat_ints(1,2,3,4)\n",
    "\n",
    "if __name__ == \"__main__\":\n",
    "    main()\n",
    "\n",
    "\n"
   ]
  },
  {
   "cell_type": "code",
   "execution_count": null,
   "metadata": {},
   "outputs": [],
   "source": []
  }
 ],
 "metadata": {
  "kernelspec": {
   "display_name": "Python 3",
   "language": "python",
   "name": "python3"
  },
  "language_info": {
   "codemirror_mode": {
    "name": "ipython",
    "version": 3
   },
   "file_extension": ".py",
   "mimetype": "text/x-python",
   "name": "python",
   "nbconvert_exporter": "python",
   "pygments_lexer": "ipython3",
   "version": "3.7.4"
  }
 },
 "nbformat": 4,
 "nbformat_minor": 2
}
