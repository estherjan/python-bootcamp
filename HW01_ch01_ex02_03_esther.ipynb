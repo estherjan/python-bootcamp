{
 "cells": [
  {
   "cell_type": "markdown",
   "metadata": {},
   "source": [
    "# Average pace calculation"
   ]
  },
  {
   "cell_type": "code",
   "execution_count": null,
   "metadata": {},
   "outputs": [],
   "source": [
    "# HW01_ch01_ex02_03\n",
    "# Start the Python interpreter and use it as a calculator.\n",
    "# Python's syntax for math operations is almost the same as\n",
    "# standard mathematical notation. For example, the symbols\n",
    "# +, - and / denote addition, subtraction and division, as you would expect.\n",
    "# The symbol for multiplication is *.\n",
    "\n",
    "# If you run a 10 kilometer race in 42 minutes 42 seconds, what is your\n",
    "# average pace (time per mile in minutes and seconds)? What is your average\n",
    "# speed in miles per hour?\n",
    "\n",
    "# Insert Answers\n",
    "# Average Pace (minutes & seconds per mile): [4 minutes and 16 seconds]\n",
    "# Average Speed in MPH:  [14.051522248243561 MPH]\n",
    "\n",
    "# Insert calculations below (paste from the interpreter):\n",
    "\n",
    ">>> 42 * 60 + 42 \n",
    "2562\n",
    "#total seconds spent.\n",
    "\n",
    ">>> 2562/10\n",
    "256.2\n",
    "#average pace: 256.2 seconds per mile\n",
    "\n",
    ">>> int(256.2/60)\n",
    "4\n",
    ">>> int(256.2 % 60)\n",
    "16\n",
    "# converting the average pace into minuts & seconds per mile\n",
    "\n",
    ">>> 3600/256.2\n",
    "14.051522248243561\n",
    "# converting the average pace into MPH"
   ]
  }
 ],
 "metadata": {
  "kernelspec": {
   "display_name": "Python 3",
   "language": "python",
   "name": "python3"
  },
  "language_info": {
   "codemirror_mode": {
    "name": "ipython",
    "version": 3
   },
   "file_extension": ".py",
   "mimetype": "text/x-python",
   "name": "python",
   "nbconvert_exporter": "python",
   "pygments_lexer": "ipython3",
   "version": "3.7.4"
  }
 },
 "nbformat": 4,
 "nbformat_minor": 2
}
