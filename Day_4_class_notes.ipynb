{
 "cells": [
  {
   "cell_type": "markdown",
   "metadata": {},
   "source": [
    "# Day 4 Class Notes & Practices"
   ]
  },
  {
   "cell_type": "markdown",
   "metadata": {},
   "source": [
    "## lists\n",
    "a list is a sequence of values, which can be stored and manipulated in variables.\n",
    "<br>string are sequences of values, but all <type 'str'> list values (list elements or items) can be any type what will this return?\n"
   ]
  },
  {
   "cell_type": "code",
   "execution_count": 6,
   "metadata": {},
   "outputs": [
    {
     "name": "stdout",
     "output_type": "stream",
     "text": [
      "<class 'str'>\n"
     ]
    }
   ],
   "source": [
    "s = \"hello\"\n",
    "print(type(s)) #in python, all parameters are 'classes'"
   ]
  },
  {
   "cell_type": "code",
   "execution_count": 8,
   "metadata": {},
   "outputs": [
    {
     "name": "stdout",
     "output_type": "stream",
     "text": [
      "<class 'type'>\n"
     ]
    }
   ],
   "source": [
    "s = \"h9ello\"\n",
    "print(type(type(1.0)))"
   ]
  },
  {
   "cell_type": "markdown",
   "metadata": {},
   "source": [
    "## lists: initializing\n",
    "initialize:"
   ]
  },
  {
   "cell_type": "code",
   "execution_count": 10,
   "metadata": {},
   "outputs": [
    {
     "ename": "SyntaxError",
     "evalue": "Missing parentheses in call to 'print'. Did you mean print(out the types in awesome:)? (<ipython-input-10-31b50c4bad97>, line 7)",
     "output_type": "error",
     "traceback": [
      "\u001b[0;36m  File \u001b[0;32m\"<ipython-input-10-31b50c4bad97>\"\u001b[0;36m, line \u001b[0;32m7\u001b[0m\n\u001b[0;31m    print out the types in awesome:\u001b[0m\n\u001b[0m            ^\u001b[0m\n\u001b[0;31mSyntaxError\u001b[0m\u001b[0;31m:\u001b[0m Missing parentheses in call to 'print'. Did you mean print(out the types in awesome:)?\n"
     ]
    }
   ],
   "source": [
    ">>> empty_list = []\n",
    ">>> empty_list2 = list()\n",
    ">>> awesome = ['golden bears', 'nachos', 7, 17.7]\n",
    ">>> print(awesome)\n",
    ">>> print(type(awesome))\n",
    "\n",
    "print out the types in awesome:\n",
    ">>> for item in awesome:\n",
    "...     print(item, type(item))"
   ]
  },
  {
   "cell_type": "code",
   "execution_count": 13,
   "metadata": {},
   "outputs": [
    {
     "name": "stdout",
     "output_type": "stream",
     "text": [
      "[0, 1, 2, 3]\n",
      "golden bears\n",
      "nachos\n",
      "7\n",
      "17.7\n"
     ]
    }
   ],
   "source": [
    "awesome = ['golden bears', 'nachos', 7, 17.7]\n",
    "\n",
    "#print(list(range(len(awesome)))) # just generating the length\n",
    "\n",
    "for index in range(len(awesome)):\n",
    "    print(awesome[index])"
   ]
  },
  {
   "cell_type": "markdown",
   "metadata": {},
   "source": [
    "## lists: of lists"
   ]
  },
  {
   "cell_type": "code",
   "execution_count": 14,
   "metadata": {},
   "outputs": [],
   "source": [
    "awesome = ['golden bears', 'nachos', 7, 17.7]\n",
    "awesome_1 = [awesome, ['1','fret, 90.9']] # lists are able to collect anything you want\n"
   ]
  },
  {
   "cell_type": "code",
   "execution_count": 16,
   "metadata": {},
   "outputs": [
    {
     "name": "stdout",
     "output_type": "stream",
     "text": [
      "nachos\n"
     ]
    }
   ],
   "source": [
    "awesome2 = [['golden bears', 'nachos'], [7, 17.7]]\n",
    "\n",
    "#how do we get to 'nachos'?\n",
    "print(awesome2[0][1])"
   ]
  },
  {
   "cell_type": "code",
   "execution_count": 23,
   "metadata": {},
   "outputs": [
    {
     "name": "stdout",
     "output_type": "stream",
     "text": [
      "1\n",
      "1\n"
     ]
    }
   ],
   "source": [
    "#if there's a long list of things, and I want to find which index 'nachos' is in:\n",
    "\n",
    "awesome = ['golden bears', 'nachos', 7, 17.7, 'tret', 100]\n",
    "for index in range(len(awesome)):\n",
    "    if awesome[index] == 'nachos':\n",
    "        print(index)\n",
    "        \n",
    "#second method:\n",
    "awesome = ['golden bears', 'nachos', 7, 17.7, 'tret', 100]\n",
    "print(awesome.index('nachos'))"
   ]
  },
  {
   "cell_type": "markdown",
   "metadata": {},
   "source": [
    "## lists: mutable\n",
    "you can change and reassign elements in a list using indices.\n",
    "<br> however, if you changed sth, there's no way to re-call sth previously.\n",
    "<br> *strings are immutable. (cannot be changed.)"
   ]
  },
  {
   "cell_type": "code",
   "execution_count": null,
   "metadata": {},
   "outputs": [],
   "source": [
    ">>> awesome[0] = 'oski'\n",
    ">>> print(awesome)\n",
    "['oski', 'nachos', 7, 17.7]\n",
    ">>> 'oski' in awesome\n",
    "True\n",
    ">>> 'stanford' in awesome\n",
    "False\n"
   ]
  },
  {
   "cell_type": "markdown",
   "metadata": {},
   "source": [
    "## lists: len(), +, *"
   ]
  },
  {
   "cell_type": "code",
   "execution_count": 38,
   "metadata": {},
   "outputs": [
    {
     "name": "stdout",
     "output_type": "stream",
     "text": [
      "My new list looks like [3, 4, 5, 7, 8, 9] and its length is 6 and alist looked like [3, 4, 5]\n",
      "We can also concat two lists like this: [[3, 4, 5], [7, 8, 9]]\n"
     ]
    }
   ],
   "source": [
    "alist = [3, 4, 5]\n",
    "blist = [7, 8, 9]\n",
    "new_list = alist + blist\n",
    "another_list = [alist,blist]\n",
    "#print(type(alist))\n",
    "#print(type(blist))\n",
    "\n",
    "# print(new_list)\n",
    "# print([alist] + [blist])\n",
    "print('My new list looks like {0} and its length is {1} and alist looked like {2}'.\\\n",
    "      format(new_list, len(new_list), alist))\n",
    "print('We can also concat two lists like this: {0}'.\\\n",
    "      format(another_list))"
   ]
  },
  {
   "cell_type": "code",
   "execution_count": 40,
   "metadata": {},
   "outputs": [
    {
     "name": "stdout",
     "output_type": "stream",
     "text": [
      "[3, 4, 5, 3, 4, 5]\n"
     ]
    }
   ],
   "source": [
    "twice_alist = alist * 2\n",
    "print(twice_alist)"
   ]
  },
  {
   "cell_type": "code",
   "execution_count": 42,
   "metadata": {},
   "outputs": [
    {
     "ename": "TypeError",
     "evalue": "can't multiply sequence by non-int of type 'list'",
     "output_type": "error",
     "traceback": [
      "\u001b[0;31m---------------------------------------------------------------------------\u001b[0m",
      "\u001b[0;31mTypeError\u001b[0m                                 Traceback (most recent call last)",
      "\u001b[0;32m<ipython-input-42-60d7461cdcf0>\u001b[0m in \u001b[0;36m<module>\u001b[0;34m\u001b[0m\n\u001b[1;32m      2\u001b[0m \u001b[0malist\u001b[0m \u001b[0;34m=\u001b[0m \u001b[0;34m[\u001b[0m\u001b[0;36m3\u001b[0m\u001b[0;34m,\u001b[0m\u001b[0;36m4\u001b[0m\u001b[0;34m,\u001b[0m\u001b[0;36m5\u001b[0m\u001b[0;34m]\u001b[0m\u001b[0;34m\u001b[0m\u001b[0;34m\u001b[0m\u001b[0m\n\u001b[1;32m      3\u001b[0m \u001b[0mblist\u001b[0m \u001b[0;34m=\u001b[0m \u001b[0;34m[\u001b[0m\u001b[0;36m7\u001b[0m\u001b[0;34m,\u001b[0m\u001b[0;36m8\u001b[0m\u001b[0;34m,\u001b[0m\u001b[0;36m9\u001b[0m\u001b[0;34m]\u001b[0m\u001b[0;34m\u001b[0m\u001b[0;34m\u001b[0m\u001b[0m\n\u001b[0;32m----> 4\u001b[0;31m \u001b[0mnew_list\u001b[0m \u001b[0;34m=\u001b[0m \u001b[0malist\u001b[0m \u001b[0;34m*\u001b[0m\u001b[0mblist\u001b[0m\u001b[0;34m\u001b[0m\u001b[0;34m\u001b[0m\u001b[0m\n\u001b[0m\u001b[1;32m      5\u001b[0m \u001b[0mprint\u001b[0m\u001b[0;34m(\u001b[0m\u001b[0mnew_list\u001b[0m\u001b[0;34m)\u001b[0m\u001b[0;34m\u001b[0m\u001b[0;34m\u001b[0m\u001b[0m\n",
      "\u001b[0;31mTypeError\u001b[0m: can't multiply sequence by non-int of type 'list'"
     ]
    }
   ],
   "source": [
    "# two different strings cannot be multiplied\n",
    "alist = [3,4,5]\n",
    "blist = [7,8,9]\n",
    "new_list = alist * blist\n",
    "print(new_list)"
   ]
  },
  {
   "cell_type": "markdown",
   "metadata": {},
   "source": [
    "## lists: slicing, looping and math"
   ]
  },
  {
   "cell_type": "code",
   "execution_count": null,
   "metadata": {},
   "outputs": [],
   "source": [
    ">>> int_list = [3, 4, 5, 6, 7]\n",
    ">>> print(int_list[0:3])\n",
    ">>> for item in int_list:\n",
    "...     print(item)\n",
    ">>> sum(int_list) # 25\n",
    ">>> max(int_list) # 7\n",
    ">>> min(int_list) # 3\n"
   ]
  },
  {
   "cell_type": "markdown",
   "metadata": {},
   "source": [
    "## lists: methods"
   ]
  },
  {
   "cell_type": "markdown",
   "metadata": {},
   "source": [
    "Add item x to end of list (in-place): `list.append(x)`\n",
    "<br>Remove item x from list: `list.remove(x)`\n",
    "<br>Remove item at the index: `list.pop(idx)`\n",
    "<br>Remove + obtain item at index: `item = list.pop(idx)`\n",
    "<br>Sort (in-place) ascending order: `list.sort()`\n",
    "<br>Sort (in-place) descending order: `list.reverse()`\n",
    "<br>Sort and return (to obtain): `newlist = sorted(list)`\n"
   ]
  },
  {
   "cell_type": "code",
   "execution_count": 45,
   "metadata": {},
   "outputs": [
    {
     "name": "stdout",
     "output_type": "stream",
     "text": [
      "['new', 'shoes']\n"
     ]
    }
   ],
   "source": [
    "alist = [\"cool\", \"new\", \"shoes\"]\n",
    "#alist.remove(\"new\")\n",
    "alist.pop(0)\n",
    "print(alist)"
   ]
  },
  {
   "cell_type": "code",
   "execution_count": 46,
   "metadata": {},
   "outputs": [
    {
     "data": {
      "text/plain": [
       "'cool'"
      ]
     },
     "execution_count": 46,
     "metadata": {},
     "output_type": "execute_result"
    }
   ],
   "source": [
    "alist = [\"cool\", \"new\", \"shoes\"]\n",
    "#not_needed_item = alist.remove(alist[0])\n",
    "alist.pop(0) "
   ]
  },
  {
   "cell_type": "code",
   "execution_count": 48,
   "metadata": {},
   "outputs": [
    {
     "name": "stdout",
     "output_type": "stream",
     "text": [
      "['cool', 'new', 'shoes']\n"
     ]
    }
   ],
   "source": [
    "alist = [\"cool\", \"new\", \"shoes\"]\n",
    "alist.sort() #it's sort within the list\n",
    "print(alist)"
   ]
  },
  {
   "cell_type": "code",
   "execution_count": 53,
   "metadata": {},
   "outputs": [
    {
     "name": "stdout",
     "output_type": "stream",
     "text": [
      "[1, 'shoes', 'new', 'cool']\n"
     ]
    }
   ],
   "source": [
    "alist = [\"cool\", \"new\", \"shoes\",1]\n",
    "#alist.sort() #it won't sort\n",
    "print(alist[::-1])"
   ]
  },
  {
   "cell_type": "markdown",
   "metadata": {},
   "source": [
    "## strings to lists & lists to strings\n",
    "string method split() splits a string and returns a list where each word is an item in the list:"
   ]
  },
  {
   "cell_type": "code",
   "execution_count": 1,
   "metadata": {},
   "outputs": [
    {
     "name": "stdout",
     "output_type": "stream",
     "text": [
      "['She', 'sells', 'seashells', 'by', 'the', 'seashore']\n"
     ]
    }
   ],
   "source": [
    "phrase = 'She sells seashells by the seashore'\n",
    "word_list = phrase.split()\n",
    "print(word_list)"
   ]
  },
  {
   "cell_type": "markdown",
   "metadata": {},
   "source": [
    "string method join() takes a list and returns a string:"
   ]
  },
  {
   "cell_type": "code",
   "execution_count": 2,
   "metadata": {},
   "outputs": [
    {
     "name": "stdout",
     "output_type": "stream",
     "text": [
      "['She', 'sells', 'seashells', 'by', 'the', 'seashore']\n"
     ]
    }
   ],
   "source": [
    "new_phrase = 'aaa'.join(word_list)\n",
    "print(word_list)"
   ]
  },
  {
   "cell_type": "code",
   "execution_count": 55,
   "metadata": {},
   "outputs": [
    {
     "name": "stdout",
     "output_type": "stream",
     "text": [
      "She-sells-seashells-by-the-seashore\n"
     ]
    }
   ],
   "source": [
    "new_phrase = '-'.join(word_list)\n",
    "print(new_phrase)"
   ]
  },
  {
   "cell_type": "markdown",
   "metadata": {},
   "source": [
    "## lists: copy, deepcopy and pass by assignment\n",
    "Assignment statements in Python do not copy objects, they create bindings between a target and an object."
   ]
  },
  {
   "cell_type": "code",
   "execution_count": 10,
   "metadata": {},
   "outputs": [
    {
     "name": "stdout",
     "output_type": "stream",
     "text": [
      "blist now is : [3, 4, 5]\n",
      "I changed alist to: [3, 'hello', 5] and blist now looks like: [3, 'hello', 5]\n"
     ]
    }
   ],
   "source": [
    "alist = [3,4,5]\n",
    "blist = alist #shallow copy\n",
    "print('blist now is : {0}'.format(blist))\n",
    "alist[1] = \"hello\"\n",
    "print('I changed alist to: {0} and blist now looks like: {1}'.format(alist, blist))"
   ]
  },
  {
   "cell_type": "code",
   "execution_count": 11,
   "metadata": {},
   "outputs": [
    {
     "name": "stdout",
     "output_type": "stream",
     "text": [
      "blist now is : [3, 4, 5]\n",
      "I changed alist to: [3, 'hello', 5] and blist now looks like: [3, 4, 5]\n"
     ]
    }
   ],
   "source": [
    "import copy \n",
    "\n",
    "alist = [3,4,5]\n",
    "blist = copy.deepcopy(alist) #deep copy\n",
    "\n",
    "print('blist now is : {0}'.format(blist))\n",
    "alist[1] = \"hello\"\n",
    "print('I changed alist to: {0} and blist now looks like: {1}'.format(alist, blist))"
   ]
  },
  {
   "cell_type": "code",
   "execution_count": 19,
   "metadata": {},
   "outputs": [
    {
     "name": "stdout",
     "output_type": "stream",
     "text": [
      "Initially, alist is here: 0x106d1fb40\n",
      "Now, alist is here: 0x106bdefa0\n",
      "But the old location is: 0x106d330f0\n"
     ]
    }
   ],
   "source": [
    "import copy \n",
    "\n",
    "alist = [3,4,5]\n",
    "location_to_save = hex(id(alist))\n",
    "print('Initially, alist is here: {0}'.format(hex(id(alist))))\n",
    "\n",
    "alist = [\"hello\", \"oski\"]\n",
    "print('Now, alist is here: {0}'.format(hex(id(alist))))\n",
    "print('But the old location is: {0}'.format(hex(id(location_to_save))))"
   ]
  },
  {
   "cell_type": "markdown",
   "metadata": {},
   "source": [
    "## lists: exercise 1\n",
    "write a function called chop that takes a list, modifies it by removing the first and last elements, and returns None\n"
   ]
  },
  {
   "cell_type": "code",
   "execution_count": 31,
   "metadata": {},
   "outputs": [],
   "source": [
    "#write a function called chop that takes a list, \n",
    "#modifies it by removing the first and last elements, and returns None\n",
    "\n",
    "alist = [3,4,5]\n",
    "def chop(alist):\n",
    "    new_alist = alist[1:]\n",
    "    new_alist = new_alist.pop(len(new_alist)-1)\n",
    "    print(new_alist)\n",
    "    return None"
   ]
  },
  {
   "cell_type": "code",
   "execution_count": 32,
   "metadata": {},
   "outputs": [
    {
     "name": "stdout",
     "output_type": "stream",
     "text": [
      "5\n"
     ]
    }
   ],
   "source": [
    "chop(alist)"
   ]
  },
  {
   "cell_type": "code",
   "execution_count": null,
   "metadata": {},
   "outputs": [],
   "source": [
    "def chop(lst):\n",
    "    lst.pop(0)\n",
    "    lst.pop(len(lst)-1)\n",
    "    return None"
   ]
  },
  {
   "cell_type": "code",
   "execution_count": 33,
   "metadata": {},
   "outputs": [
    {
     "name": "stdout",
     "output_type": "stream",
     "text": [
      "5\n",
      "None\n"
     ]
    }
   ],
   "source": [
    "result = chop([3,4,5])\n",
    "print(result)"
   ]
  },
  {
   "cell_type": "markdown",
   "metadata": {},
   "source": [
    "## tuples\n",
    "A tuple consists of a number of values separated by commas\n",
    "<br>Tuples are immutable, and usually contain a heterogeneous sequence of elements that are accessed via unpacking [ . . . ] or indexing [ . . . ]. Lists are mutable, and their elements are usually homogeneous and are accessed by iterating over the list.\n",
    "\n",
    "<br>tuples can't be sorted.\n",
    "<br>tuples can't be changed.\n",
    "<br>tuples stays in certain order.\n",
    "<br>if I don't want ppl to change a certain list of content, I'll use tuples, rather than lists."
   ]
  },
  {
   "cell_type": "markdown",
   "metadata": {},
   "source": [
    "t = ()  # an empty tuple\n",
    "t1 = 1,  # a tuple of len 1\n",
    "t = a, b, c  # tuple packing"
   ]
  },
  {
   "cell_type": "markdown",
   "metadata": {},
   "source": [
    "## sequence unpacking"
   ]
  },
  {
   "cell_type": "code",
   "execution_count": 24,
   "metadata": {},
   "outputs": [
    {
     "name": "stdout",
     "output_type": "stream",
     "text": [
      "(1, 2, 3)\n"
     ]
    }
   ],
   "source": [
    "c = 1, 2, 3 #this is a tuple\n",
    "print(c) "
   ]
  },
  {
   "cell_type": "code",
   "execution_count": 25,
   "metadata": {},
   "outputs": [
    {
     "name": "stdout",
     "output_type": "stream",
     "text": [
      "(1, 2, 3)\n",
      "1\n",
      "2\n",
      "3\n"
     ]
    }
   ],
   "source": [
    "t = 1, 2, 3\n",
    "print(t)\n",
    "a, b, c = t #unpacking the tuple\n",
    "print(a)\n",
    "print(b)\n",
    "print(c)"
   ]
  },
  {
   "cell_type": "code",
   "execution_count": 30,
   "metadata": {},
   "outputs": [
    {
     "name": "stdout",
     "output_type": "stream",
     "text": [
      "('Monty', 'Python')\n",
      "Python\n"
     ]
    }
   ],
   "source": [
    "def f():\n",
    "    return \"Monty\", \"Python\"\n",
    "print(f())\n",
    "# x, y = f()\n",
    "y = f()[1]\n",
    "# print(x)\n",
    "print(y)"
   ]
  },
  {
   "cell_type": "code",
   "execution_count": 37,
   "metadata": {},
   "outputs": [
    {
     "name": "stdout",
     "output_type": "stream",
     "text": [
      "(1, 2, 3)\n"
     ]
    }
   ],
   "source": [
    "a = [1,2,3]\n",
    "t = tuple(a)\n",
    "\n",
    "print(t)"
   ]
  },
  {
   "cell_type": "code",
   "execution_count": 39,
   "metadata": {},
   "outputs": [
    {
     "name": "stdout",
     "output_type": "stream",
     "text": [
      "gimme a number: 5\n",
      "gimme a number: 8\n",
      "gimme a number: 10\n",
      "('5', '8', '10')\n"
     ]
    }
   ],
   "source": [
    "#create a tuple by user input.\n",
    "a = [1,2,3]\n",
    "t = (input(\"gimme a number: \"),input(\"gimme a number: \"),input(\"gimme a number: \") )\n",
    "\n",
    "print(t)"
   ]
  },
  {
   "cell_type": "code",
   "execution_count": 43,
   "metadata": {},
   "outputs": [
    {
     "name": "stdout",
     "output_type": "stream",
     "text": [
      "('hello', 1, 2)\n",
      "('hello', 1, 2)\n"
     ]
    }
   ],
   "source": [
    "#tuples are immutable\n",
    "\n",
    "a = \"hello\"\n",
    "\n",
    "t = (a, 1, 2)\n",
    "print(t)\n",
    "a = \"bye\"\n",
    "print(t)"
   ]
  },
  {
   "cell_type": "markdown",
   "metadata": {},
   "source": [
    "## lists exercise 2\n",
    "write a function that reads roster.txt and prints the following:\n",
    "<br>\"A list of first and GitHub usernames (User):\"\n",
    "<br>[First User, First User, First User, etc.]\n",
    "<br>\"A list of lists of first and username:\"\n",
    "<br>[[First, User], [First, User], [First, User], etc.]\n",
    "<br>\"A list of first names sorted by length:\"\n",
    "<br>[ShortFirst, LongFirst, LongerFirst, etc.]\n"
   ]
  },
  {
   "cell_type": "code",
   "execution_count": 5,
   "metadata": {},
   "outputs": [],
   "source": [
    "import os\n",
    "os.chdir(\"/Users/janjan/python-bootcamp/Day_4\")\n",
    "\n",
    "def read_file():\n",
    "    RosterFile = open('roster.txt', 'r')\n",
    "    print(\"A list of first and GitHub usernames(User):\")\n",
    "    list1 = []\n",
    "    \n",
    "    for line in RosterFile:\n",
    "        list1.append(RosterFile.readline().split('\\n')[0])\n",
    "    list1.pop(len(list1)-1)\n",
    "    print(list1)"
   ]
  },
  {
   "cell_type": "code",
   "execution_count": 6,
   "metadata": {},
   "outputs": [
    {
     "name": "stdout",
     "output_type": "stream",
     "text": [
      "A list of first and GitHub usernames(User):\n",
      "['Tiffany nameistiffyp', 'Akshara akshara08', 'Manasi manasi1994', 'Max maxmir20', 'Yin qyinhelena', 'Arika ArikaVerma', 'Nitin NiStannum']\n"
     ]
    }
   ],
   "source": [
    "read_file()"
   ]
  },
  {
   "cell_type": "code",
   "execution_count": 23,
   "metadata": {},
   "outputs": [],
   "source": [
    "import os\n",
    "os.chdir(\"/Users/janjan/python-bootcamp/Day_4\")\n",
    "\n",
    "def read_file():\n",
    "    RosterFile = open('roster.txt', 'r')\n",
    "    list1 = []\n",
    "    list2 = []\n",
    "    list3 = []\n",
    "    \n",
    "    print(\"A list of first and GitHub usernames(User):\")\n",
    "    for line in RosterFile:\n",
    "        line1 = line.rstrip()\n",
    "        list1.append(line1)\n",
    "    print(list1)\n",
    "    \n",
    "    print(\"A list of lists of first and username:\")\n",
    "    for word in range(len(list1)):\n",
    "        separate_name_list = list1[word].split(' ')\n",
    "        list2.append(separate_name_list)\n",
    "    print(list2)"
   ]
  },
  {
   "cell_type": "code",
   "execution_count": 26,
   "metadata": {},
   "outputs": [
    {
     "name": "stdout",
     "output_type": "stream",
     "text": [
      "A list of first and GitHub usernames(User):\n",
      "['Prakhar prakharchandna', 'Tiffany nameistiffyp', 'Mandy mleung32', 'Akshara akshara08', 'Nicole nicoletchi', 'Manasi manasi1994', 'Ramya Ramya0694', 'Max maxmir20', 'Brinda brinsga', 'Yin qyinhelena', 'Min Hyung chung-grace', 'Arika ArikaVerma', 'Esther estherjan', 'Nitin NiStannum', 'Joanne joannejia17']\n",
      "A list of lists of first and username:\n"
     ]
    },
    {
     "data": {
      "text/plain": [
       "[['Prakhar', 'prakharchandna']]"
      ]
     },
     "execution_count": 26,
     "metadata": {},
     "output_type": "execute_result"
    }
   ],
   "source": [
    "read_file1()"
   ]
  },
  {
   "cell_type": "markdown",
   "metadata": {},
   "source": [
    "### the rest of the above exercise can be found in the <br>\"Day_4_exercise2.ipynb\" file."
   ]
  },
  {
   "cell_type": "code",
   "execution_count": null,
   "metadata": {},
   "outputs": [],
   "source": []
  }
 ],
 "metadata": {
  "kernelspec": {
   "display_name": "Python 3",
   "language": "python",
   "name": "python3"
  },
  "language_info": {
   "codemirror_mode": {
    "name": "ipython",
    "version": 3
   },
   "file_extension": ".py",
   "mimetype": "text/x-python",
   "name": "python",
   "nbconvert_exporter": "python",
   "pygments_lexer": "ipython3",
   "version": "3.7.4"
  }
 },
 "nbformat": 4,
 "nbformat_minor": 2
}
