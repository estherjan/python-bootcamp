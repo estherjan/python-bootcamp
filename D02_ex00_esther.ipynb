{
 "cells": [
  {
   "cell_type": "code",
   "execution_count": null,
   "metadata": {},
   "outputs": [
    {
     "name": "stdout",
     "output_type": "stream",
     "text": [
      "Guess a number:\n"
     ]
    }
   ],
   "source": [
    "# Create a program that does the following:\n",
    "#     - creates a random integer from 1 - 25\n",
    "#     - asks the user to guess what the number is\n",
    "#     - validates input is a number\n",
    "#     - tells the user if they guess correctly\n",
    "#         - if not: tells them too high/low\n",
    "#     - only lets the user guess five times\n",
    "#         - then ends the program\n",
    "\n",
    "# Please write a docstring for every function you write.\n",
    "\n",
    "###############################################################################\n",
    "# Imports\n",
    "import random\n",
    "answer = random.randint(1,25)\n",
    "\n",
    "# Body\n",
    "guess_taken = 0\n",
    "while guess_taken < 5:\n",
    "    print(\"Guess a number:\")\n",
    "    guess = int(input())\n",
    "    \n",
    "    \n",
    "    guess_taken = guess_taken + 1\n",
    "    if guess < answer:\n",
    "        print(\"Higher.\")\n",
    "    elif guess > answer:\n",
    "        print(\"Lower.\")\n",
    "    elif guess == number:\n",
    "        print(\"You got it! The answer is \", answer)\n",
    "        break\n",
    "\n",
    "###############################################################################\n",
    "def main():\n",
    "    import random\n",
    "    answer = random.randint(1,25)\n",
    "\n",
    "    guess_taken = 0\n",
    "    while guess_taken < 5:\n",
    "        print(\"Guess a number:\")\n",
    "        guess = int(input())\n",
    "\n",
    "\n",
    "        guess_taken = guess_taken + 1\n",
    "        if guess < answer:\n",
    "            print(\"Higher.\")\n",
    "        elif guess > answer:\n",
    "            print(\"Lower.\")\n",
    "        elif guess == number:\n",
    "            print(\"You got it! The answer is \", answer)\n",
    "            break\n",
    "if __name__ == '__main__':\n",
    "    main()\n",
    "\n"
   ]
  }
 ],
 "metadata": {
  "kernelspec": {
   "display_name": "Python 3",
   "language": "python",
   "name": "python3"
  },
  "language_info": {
   "codemirror_mode": {
    "name": "ipython",
    "version": 3
   },
   "file_extension": ".py",
   "mimetype": "text/x-python",
   "name": "python",
   "nbconvert_exporter": "python",
   "pygments_lexer": "ipython3",
   "version": "3.7.4"
  }
 },
 "nbformat": 4,
 "nbformat_minor": 2
}
