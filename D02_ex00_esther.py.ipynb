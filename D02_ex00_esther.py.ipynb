{
 "cells": [
  {
   "cell_type": "code",
   "execution_count": 3,
   "metadata": {},
   "outputs": [
    {
     "ename": "SyntaxError",
     "evalue": "invalid syntax (<ipython-input-3-d7ce271840f8>, line 37)",
     "output_type": "error",
     "traceback": [
      "\u001b[0;36m  File \u001b[0;32m\"<ipython-input-3-d7ce271840f8>\"\u001b[0;36m, line \u001b[0;32m37\u001b[0m\n\u001b[0;31m    if x < rn\u001b[0m\n\u001b[0m             ^\u001b[0m\n\u001b[0;31mSyntaxError\u001b[0m\u001b[0;31m:\u001b[0m invalid syntax\n"
     ]
    }
   ],
   "source": [
    "#!/usr/bin/env python3\n",
    "# D04_ex00\n",
    "\n",
    "# Create a program that does the following:\n",
    "#     - creates a random integer from 1 - 25\n",
    "#     - asks the user to guess what the number is\n",
    "#     - validates input is a number\n",
    "#     - tells the user if they guess correctly\n",
    "#         - if not: tells them too high/low\n",
    "#     - only lets the user guess five times\n",
    "#         - then ends the program\n",
    "\n",
    "# Please write a docstring for every function you write.\n",
    "\n",
    "###############################################################################\n",
    "# Imports\n",
    "\n",
    "import random\n",
    "rn = random.randint(1,25)\n",
    "print(\"Random number: \",rn)\n",
    "\n",
    "# while True:\n",
    "#     try:\n",
    "#         x = int(input(\"Guess what the number is: \"))\n",
    "#     except ValueError:\n",
    "#         print(\"That isn't a number!\")\n",
    "#     else:\n",
    "#         print(\"The number is: \", x)\n",
    "#     finally:\n",
    "#         print(\"Try again.\")\n",
    "\n",
    "while True:\n",
    "    try:\n",
    "        x = int(input(\"Guess what the number is: \"))\n",
    "    except ValueError:\n",
    "        print(\"That isn't a number! \")\n",
    "    if x < rn\n",
    "        print(\"higher!\")\n",
    "    elif x > rn\n",
    "        print(\"lower!\")\n",
    "    elif x == rn\n",
    "        print(\"That's the correct number. The number is: \", x)\n",
    "    finally:\n",
    "        print(\"Try again.\")\n",
    "\n"
   ]
  },
  {
   "cell_type": "markdown",
   "metadata": {},
   "source": []
  }
 ],
 "metadata": {
  "kernelspec": {
   "display_name": "Python 3",
   "language": "python",
   "name": "python3"
  },
  "language_info": {
   "codemirror_mode": {
    "name": "ipython",
    "version": 3
   },
   "file_extension": ".py",
   "mimetype": "text/x-python",
   "name": "python",
   "nbconvert_exporter": "python",
   "pygments_lexer": "ipython3",
   "version": "3.7.4"
  }
 },
 "nbformat": 4,
 "nbformat_minor": 2
}
