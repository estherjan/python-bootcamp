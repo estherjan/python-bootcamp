{
 "cells": [
  {
   "cell_type": "markdown",
   "metadata": {},
   "source": [
    "## logics.py"
   ]
  },
  {
   "cell_type": "code",
   "execution_count": 26,
   "metadata": {},
   "outputs": [],
   "source": [
    "##############################################################################\n",
    "def even_odd():\n",
    "    \"\"\" Print even or odd:\n",
    "        Takes one integer from user\n",
    "            accepts only non-word numerals\n",
    "            must validate\n",
    "        Determines if even or odd\n",
    "        Prints determination\n",
    "        returns None\n",
    "    \"\"\"\n",
    "    user_input = input(\"Type in a number: \")\n",
    "    try:\n",
    "        val = int(user_input)\n",
    "        if val % 2 == 0:\n",
    "            print(\"The number is even.\")\n",
    "        else:\n",
    "            print(\"The number is odd.\")\n",
    "    except ValueError:\n",
    "        print(\"That's not an integer!\")\n",
    "    pass\n",
    "\n",
    "\n",
    "def ten_by_ten():\n",
    "    \"\"\" Prints integers 1 through 100 sequentially in a ten by ten grid.\"\"\"\n",
    "    oneToHundred = list(range(1,101))\n",
    "    i = 0\n",
    "    \n",
    "    while i < 100:\n",
    "        print(\"{:>5d}\".format(oneToHundred[i]), end = \" \")\n",
    "        i = i + 1\n",
    "        if i % 10 == 0:\n",
    "            print(\"\")\n",
    "    pass\n",
    "\n",
    "def find_average():\n",
    "    \"\"\" Takes numeric input (non-word numerals) from the user, one number\n",
    "    at a time. Once the user types 'done', returns the average.\n",
    "    \"\"\"\n",
    "    #initialize variables\n",
    "    count = 0\n",
    "    sum = 0.0\n",
    "    \n",
    "    while True:\n",
    "        data = input(\"Enter a number or type 'done' to quit: \")\n",
    "        \n",
    "        #set up termination condition\n",
    "        if data == \"done\":\n",
    "            break\n",
    "        \n",
    "        #calculate sum and average\n",
    "        number = float(data)\n",
    "        sum += number\n",
    "        average = sum / number\n",
    "    \n",
    "    print(\"The average is\", average)\n",
    "    pass\n",
    "\n",
    "\n",
    "##############################################################################"
   ]
  },
  {
   "cell_type": "code",
   "execution_count": 27,
   "metadata": {},
   "outputs": [
    {
     "name": "stdout",
     "output_type": "stream",
     "text": [
      "Type in a number: 3\n",
      "The number is odd.\n",
      "    1     2     3     4     5     6     7     8     9    10 \n",
      "   11    12    13    14    15    16    17    18    19    20 \n",
      "   21    22    23    24    25    26    27    28    29    30 \n",
      "   31    32    33    34    35    36    37    38    39    40 \n",
      "   41    42    43    44    45    46    47    48    49    50 \n",
      "   51    52    53    54    55    56    57    58    59    60 \n",
      "   61    62    63    64    65    66    67    68    69    70 \n",
      "   71    72    73    74    75    76    77    78    79    80 \n",
      "   81    82    83    84    85    86    87    88    89    90 \n",
      "   91    92    93    94    95    96    97    98    99   100 \n",
      "Enter a number or type 'done' to quit: 1\n",
      "Enter a number or type 'done' to quit: 2\n",
      "Enter a number or type 'done' to quit: 3\n",
      "Enter a number or type 'done' to quit: done\n",
      "The average is 2.0\n"
     ]
    }
   ],
   "source": [
    "def main():\n",
    "        even_odd()\n",
    "        ten_by_ten()\n",
    "        \n",
    "    #Prints the following function:\n",
    "        find_average()\n",
    "pass\n",
    "\n",
    "if __name__ == '__main__':\n",
    "    main()"
   ]
  },
  {
   "cell_type": "code",
   "execution_count": null,
   "metadata": {},
   "outputs": [],
   "source": []
  }
 ],
 "metadata": {
  "kernelspec": {
   "display_name": "Python 3",
   "language": "python",
   "name": "python3"
  },
  "language_info": {
   "codemirror_mode": {
    "name": "ipython",
    "version": 3
   },
   "file_extension": ".py",
   "mimetype": "text/x-python",
   "name": "python",
   "nbconvert_exporter": "python",
   "pygments_lexer": "ipython3",
   "version": "3.7.4"
  }
 },
 "nbformat": 4,
 "nbformat_minor": 2
}
